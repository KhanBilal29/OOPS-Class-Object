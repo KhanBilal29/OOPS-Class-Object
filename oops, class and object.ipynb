{
 "cells": [
  {
   "cell_type": "markdown",
   "id": "76ce69f5",
   "metadata": {},
   "source": [
    "# Class and Object"
   ]
  },
  {
   "cell_type": "code",
   "execution_count": 4,
   "id": "663b8ffd",
   "metadata": {},
   "outputs": [],
   "source": [
    "a = 10\n",
    "b = 4\n",
    "c = \"sudh\"\n",
    "# a is what--->a is a variable/object of integer class\n",
    "# b is what--->b is a variable/object of integer class\n",
    "# c is what--->c is a variable/object of string class"
   ]
  },
  {
   "cell_type": "code",
   "execution_count": 5,
   "id": "c1b587b9",
   "metadata": {},
   "outputs": [],
   "source": [
    "l = [1,2,3,4,5]\n",
    "#here l is a variable/object of a list class"
   ]
  },
  {
   "cell_type": "code",
   "execution_count": 6,
   "id": "227414a2",
   "metadata": {},
   "outputs": [],
   "source": [
    "#we can create any no of objects"
   ]
  },
  {
   "cell_type": "code",
   "execution_count": 7,
   "id": "ee19be5d",
   "metadata": {},
   "outputs": [],
   "source": [
    "#class is a classification of real world entity\n",
    "#object is a variable of a class by which you can do a real time representation of a data or a entity "
   ]
  },
  {
   "cell_type": "code",
   "execution_count": 8,
   "id": "80941c01",
   "metadata": {},
   "outputs": [],
   "source": [
    "#main purpose of using oops concept is to create a modular code, increasing a reusability, implemention abstraction, \n",
    "#by writing once you can call multiple times"
   ]
  },
  {
   "cell_type": "code",
   "execution_count": 9,
   "id": "77909290",
   "metadata": {},
   "outputs": [],
   "source": [
    "#class is a keyword"
   ]
  },
  {
   "cell_type": "code",
   "execution_count": 10,
   "id": "3d77d971",
   "metadata": {},
   "outputs": [],
   "source": [
    "class car:\n",
    "    pass"
   ]
  },
  {
   "cell_type": "code",
   "execution_count": 11,
   "id": "8cdf55d2",
   "metadata": {},
   "outputs": [],
   "source": [
    "audiq7 = car()  #audiq7 is a variable of a car class"
   ]
  },
  {
   "cell_type": "code",
   "execution_count": 12,
   "id": "d48af6c7",
   "metadata": {},
   "outputs": [
    {
     "data": {
      "text/plain": [
       "<__main__.car at 0x7fabd8eba5b0>"
      ]
     },
     "execution_count": 12,
     "metadata": {},
     "output_type": "execute_result"
    }
   ],
   "source": [
    "audiq7"
   ]
  },
  {
   "cell_type": "code",
   "execution_count": 13,
   "id": "a1ed9135",
   "metadata": {},
   "outputs": [],
   "source": [
    "audiq7.milage = 10                 #audiq7.milage means (classvariable.new variable)\n",
    "audiq7.year = 2021\n",
    "audiq7.make = 345\n",
    "audiq7.model = \"fsdf\"                                                                                                                                                                                                                                                                                                                                                                                                                                   "
   ]
  },
  {
   "cell_type": "code",
   "execution_count": 14,
   "id": "46b20489",
   "metadata": {},
   "outputs": [
    {
     "data": {
      "text/plain": [
       "10"
      ]
     },
     "execution_count": 14,
     "metadata": {},
     "output_type": "execute_result"
    }
   ],
   "source": [
    "audiq7.milage"
   ]
  },
  {
   "cell_type": "code",
   "execution_count": 15,
   "id": "9531628e",
   "metadata": {},
   "outputs": [
    {
     "ename": "NameError",
     "evalue": "name 'milage' is not defined",
     "output_type": "error",
     "traceback": [
      "\u001b[0;31m---------------------------------------------------------------------------\u001b[0m",
      "\u001b[0;31mNameError\u001b[0m                                 Traceback (most recent call last)",
      "Input \u001b[0;32mIn [15]\u001b[0m, in \u001b[0;36m<cell line: 1>\u001b[0;34m()\u001b[0m\n\u001b[0;32m----> 1\u001b[0m \u001b[43mmilage\u001b[49m\n",
      "\u001b[0;31mNameError\u001b[0m: name 'milage' is not defined"
     ]
    }
   ],
   "source": [
    "milage"
   ]
  },
  {
   "cell_type": "code",
   "execution_count": 16,
   "id": "5f0451f3",
   "metadata": {},
   "outputs": [],
   "source": [
    "#as we know milage is associated with class variable audiq7 hence it is giving error"
   ]
  },
  {
   "cell_type": "code",
   "execution_count": 17,
   "id": "959cab49",
   "metadata": {},
   "outputs": [
    {
     "data": {
      "text/plain": [
       "2021"
      ]
     },
     "execution_count": 17,
     "metadata": {},
     "output_type": "execute_result"
    }
   ],
   "source": [
    "audiq7.year"
   ]
  },
  {
   "cell_type": "code",
   "execution_count": 18,
   "id": "ff5682e0",
   "metadata": {},
   "outputs": [],
   "source": [
    "nano = car()"
   ]
  },
  {
   "cell_type": "code",
   "execution_count": 19,
   "id": "5a16d4fc",
   "metadata": {},
   "outputs": [],
   "source": [
    "#here i will define my own object related variable "
   ]
  },
  {
   "cell_type": "code",
   "execution_count": 20,
   "id": "f5bbfeed",
   "metadata": {},
   "outputs": [],
   "source": [
    "nano.milage = 10  #nano.milage = 10, by this it will be able to understand, i am talking about nano class and nano \n",
    "                  #belongs to car class \n",
    "nano.year = 2020     \n",
    "nano.make = 234                  \n",
    "nano.model = \"gjjj\"\n",
    "nano.engineno = 46677788876"
   ]
  },
  {
   "cell_type": "code",
   "execution_count": 21,
   "id": "268509c3",
   "metadata": {},
   "outputs": [
    {
     "data": {
      "text/plain": [
       "10"
      ]
     },
     "execution_count": 21,
     "metadata": {},
     "output_type": "execute_result"
    }
   ],
   "source": [
    "nano.milage"
   ]
  },
  {
   "cell_type": "code",
   "execution_count": 22,
   "id": "280e89f0",
   "metadata": {},
   "outputs": [
    {
     "data": {
      "text/plain": [
       "46677788876"
      ]
     },
     "execution_count": 22,
     "metadata": {},
     "output_type": "execute_result"
    }
   ],
   "source": [
    "nano.engineno"
   ]
  },
  {
   "cell_type": "code",
   "execution_count": 23,
   "id": "b3978867",
   "metadata": {},
   "outputs": [
    {
     "name": "stdout",
     "output_type": "stream",
     "text": [
      "10 10\n"
     ]
    }
   ],
   "source": [
    "print(audiq7.milage, nano.milage)"
   ]
  },
  {
   "cell_type": "code",
   "execution_count": 24,
   "id": "86e47314",
   "metadata": {},
   "outputs": [],
   "source": [
    "class car:                                         #(self, milage, year, make, model)writing these variable with self \n",
    "                                                   #means my class is aware that it has 4 variables\n",
    "    def __init__(self, milage, year, make, model):   #self is a pointer to itself, means it will point to itself means \n",
    "                                                   #it will point to same class\n",
    "        self.milage = milage                       #self.milage is a class variable \n",
    "        self.year = year\n",
    "        self.make = make\n",
    "        self.model = model\n",
    "        \n",
    "                          #self.milage, self.year, self.make, self.model these are all class variables \n",
    "        \n",
    "                          #here __init__ is a inbuilt function\n",
    "            \n",
    "                          #__init__ is a function starting with underscore and ending with underscore\n",
    "                \n",
    "                          #init is used for initialization of data\n",
    "                    \n",
    "                          #self is not a keyword, it is a parameter or kind of a references we are trying to pass \n",
    "                          #from our side which can be used to point out the classes \n",
    "                            \n",
    "                            \n",
    "                          #__init__ function is used to pass a data to a class \n",
    "                        \n",
    "                          #whenever i will try to call a class or whenever i will try to create a variable of a \n",
    "                          #classes i am suppose to pass all the data i.e.(milage, year, make, model) \n",
    "                        \n",
    "                          #whenever someone is going to create a car class variable or car class object they should \n",
    "                          #pass all these data(milage, year, make, model), so that my class is able to return \n",
    "                          #the data when it is required"
   ]
  },
  {
   "cell_type": "code",
   "execution_count": 25,
   "id": "5e9f648a",
   "metadata": {},
   "outputs": [
    {
     "ename": "TypeError",
     "evalue": "__init__() missing 4 required positional arguments: 'milage', 'year', 'make', and 'model'",
     "output_type": "error",
     "traceback": [
      "\u001b[0;31m---------------------------------------------------------------------------\u001b[0m",
      "\u001b[0;31mTypeError\u001b[0m                                 Traceback (most recent call last)",
      "Input \u001b[0;32mIn [25]\u001b[0m, in \u001b[0;36m<cell line: 1>\u001b[0;34m()\u001b[0m\n\u001b[0;32m----> 1\u001b[0m nano1 \u001b[38;5;241m=\u001b[39m \u001b[43mcar\u001b[49m\u001b[43m(\u001b[49m\u001b[43m)\u001b[49m\n",
      "\u001b[0;31mTypeError\u001b[0m: __init__() missing 4 required positional arguments: 'milage', 'year', 'make', and 'model'"
     ]
    }
   ],
   "source": [
    "nano1 = car()"
   ]
  },
  {
   "cell_type": "code",
   "execution_count": 26,
   "id": "0ef6b55c",
   "metadata": {},
   "outputs": [],
   "source": [
    "#above i was defining my own object related variable, but here i am passing the data only n it is giving me the result"
   ]
  },
  {
   "cell_type": "code",
   "execution_count": 27,
   "id": "5e9d6335",
   "metadata": {},
   "outputs": [],
   "source": [
    "nano1 = car(20, 2020, 378, \"hghj\")  #now it has taken this data and entered this data into classes for a nano variable\n",
    "audiq71 = car(10, 2021, 432, \"cbnm\")\n",
    "nano11 = car(20, 2020, 378, \"hghj\")  \n",
    "audiq712 = car(10, 2021, 432, \"cbnm\")\n",
    "nano13 = car(20, 2020, 378, \"hghj\")  \n",
    "audiq714 = car(10, 2021, 432, \"cbnm\")\n",
    "nano15 = car(20, 2020, 378, \"hghj\")  \n",
    "audiq716 = car(10, 2021, 432, \"cbnm\")\n",
    "nano17 = car(20, 2020, 378, \"hghj\")  \n",
    "audiq717 = car(10, 2021, 432, \"cbnm\")"
   ]
  },
  {
   "cell_type": "code",
   "execution_count": 28,
   "id": "f2541a43",
   "metadata": {},
   "outputs": [],
   "source": [
    "#here we are trying to treat our class like a method/function, bcoz whenever we call a function we try to provide a \n",
    "#data to a function if we have already specified an argument, if we have not specified an argument then there is no \n",
    "#need to provide a data, same thing happens with classes as well"
   ]
  },
  {
   "cell_type": "code",
   "execution_count": 29,
   "id": "658dbd59",
   "metadata": {},
   "outputs": [
    {
     "data": {
      "text/plain": [
       "20"
      ]
     },
     "execution_count": 29,
     "metadata": {},
     "output_type": "execute_result"
    }
   ],
   "source": [
    "#if i want milage of nano1, then write nano1.milage\n",
    "nano1.milage"
   ]
  },
  {
   "cell_type": "code",
   "execution_count": 30,
   "id": "8fb43d63",
   "metadata": {},
   "outputs": [],
   "source": [
    "#in case of any kind of function that you are going to create within a class the first parameter that you are going \n",
    "#to pass that behaves as a pointer or self(if you will write any first string that will behave as a pointer to a \n",
    "#class)  "
   ]
  },
  {
   "cell_type": "code",
   "execution_count": 32,
   "id": "7d22b3e5",
   "metadata": {},
   "outputs": [],
   "source": [
    "class car:                                         \n",
    "                                                   \n",
    "    def __init__(milage, year, make, model):     \n",
    "                                                   \n",
    "        self.milage = milage                        \n",
    "        self.year = year\n",
    "        self.make = make\n",
    "        self.model = model\n",
    "        "
   ]
  },
  {
   "cell_type": "code",
   "execution_count": 33,
   "id": "e4b0c229",
   "metadata": {},
   "outputs": [],
   "source": [
    "class car:                                         \n",
    "                                                   \n",
    "    def __init__(a, milage, year, make, model):     \n",
    "                                                   \n",
    "        a.milage = milage                        \n",
    "        a.year = year\n",
    "        a.make = make\n",
    "        a.model = model"
   ]
  },
  {
   "cell_type": "code",
   "execution_count": 34,
   "id": "e71e96c7",
   "metadata": {},
   "outputs": [],
   "source": [
    "#as we can see above we took a as a pointer, we can take any string as a pointer which is associating a data to the \n",
    "#class"
   ]
  },
  {
   "cell_type": "code",
   "execution_count": 35,
   "id": "e6f0550a",
   "metadata": {},
   "outputs": [],
   "source": [
    "nano17 = car(20, 2020, 378, \"hghj\")  "
   ]
  },
  {
   "cell_type": "code",
   "execution_count": 36,
   "id": "ecd6c7d7",
   "metadata": {},
   "outputs": [
    {
     "data": {
      "text/plain": [
       "20"
      ]
     },
     "execution_count": 36,
     "metadata": {},
     "output_type": "execute_result"
    }
   ],
   "source": [
    "nano17.milage"
   ]
  },
  {
   "cell_type": "code",
   "execution_count": 24,
   "id": "e5bc8e30",
   "metadata": {},
   "outputs": [],
   "source": [
    "class car:                                         \n",
    "                                                   \n",
    "    def __init__(a, m, y, ma, mo):        #(a, m, y, m, mo)  these are all the argument to init\n",
    "                                          #i am just trying to provide the value of m,y,ma,mo at the time of creation \n",
    "                                          #of class variable          \n",
    "        a.milage = m                      #actual variable associated with class is milage not m        \n",
    "        a.year = y                        #actual variable associated with class is year not y       \n",
    "        a.make = ma                       #actual variable associated with class is make not ma       \n",
    "        a.model = mo                      #actual variable associated with class is model not mo  \n",
    "#write one method and give me age of a car         \n",
    "    def age(b,current_year):           #age is a function which is available inside a class\n",
    "        return current_year - b.year   #we can take any string in place of self b ,c, d, etc except a \n",
    "    \n",
    "    \n",
    "    def milage11(self):\n",
    "        print(\"milage of car is \", self.milage)\n",
    "        \n",
    "    def __str__(c):                    #str is a inbuilt function we use this method when we want to give some message \n",
    "        return \"this is my car class i have created\"  #whenever object will be called i.e. print(nano17) then by \n",
    "                                                      #default it will give this message this is my car class i have \n",
    "                                                      #created \n",
    "        \n",
    "#def __str__(c): c is a argument here       \n",
    "               \n",
    "#whenever i will try to create an object variable of a class bydefault init will be called automatically, if init \n",
    "#will be called automatically, so whatever no of parameter we have defined we have to follow it and we have to pass\n",
    "#that no of data\n",
    "\n",
    "#whatever is present inside class and u have to call it, u will call it through particular object, which is created \n",
    "#by you\n",
    "\n",
    "    \n",
    "        \n",
    "        #return self.milage1"
   ]
  },
  {
   "cell_type": "code",
   "execution_count": 16,
   "id": "dfbf01ac",
   "metadata": {},
   "outputs": [],
   "source": [
    "#a is a pointer which i have created inside __init__ . Outside __init__ a will not work "
   ]
  },
  {
   "cell_type": "code",
   "execution_count": 25,
   "id": "b5b8f2e1",
   "metadata": {},
   "outputs": [],
   "source": [
    "nano17 = car(20, 2020, 378, \"hghj\")  #when i have run this then by default it has called __init__method\n",
    "                                     #here i have provided the value of m, y, ma, mo i.e. 20, 2020, 378, \"hghj\"  "
   ]
  },
  {
   "cell_type": "code",
   "execution_count": 18,
   "id": "202a0330",
   "metadata": {},
   "outputs": [
    {
     "data": {
      "text/plain": [
       "<bound method car.milage11 of <__main__.car object at 0x7f884cd85c10>>"
      ]
     },
     "execution_count": 18,
     "metadata": {},
     "output_type": "execute_result"
    }
   ],
   "source": [
    "nano17.milage11"
   ]
  },
  {
   "cell_type": "code",
   "execution_count": 19,
   "id": "9af293c3",
   "metadata": {},
   "outputs": [
    {
     "ename": "TypeError",
     "evalue": "age() missing 1 required positional argument: 'current_year'",
     "output_type": "error",
     "traceback": [
      "\u001b[0;31m---------------------------------------------------------------------------\u001b[0m",
      "\u001b[0;31mTypeError\u001b[0m                                 Traceback (most recent call last)",
      "Input \u001b[0;32mIn [19]\u001b[0m, in \u001b[0;36m<cell line: 1>\u001b[0;34m()\u001b[0m\n\u001b[0;32m----> 1\u001b[0m \u001b[43mnano17\u001b[49m\u001b[38;5;241;43m.\u001b[39;49m\u001b[43mage\u001b[49m\u001b[43m(\u001b[49m\u001b[43m)\u001b[49m\n",
      "\u001b[0;31mTypeError\u001b[0m: age() missing 1 required positional argument: 'current_year'"
     ]
    }
   ],
   "source": [
    "nano17.age() #pass the current_year as argument here "
   ]
  },
  {
   "cell_type": "code",
   "execution_count": 26,
   "id": "7c9544bc",
   "metadata": {},
   "outputs": [
    {
     "data": {
      "text/plain": [
       "2"
      ]
     },
     "execution_count": 26,
     "metadata": {},
     "output_type": "execute_result"
    }
   ],
   "source": [
    "nano17.age(2022)"
   ]
  },
  {
   "cell_type": "code",
   "execution_count": 20,
   "id": "fbbd659e",
   "metadata": {},
   "outputs": [
    {
     "ename": "AttributeError",
     "evalue": "'car' object has no attribute 'm'",
     "output_type": "error",
     "traceback": [
      "\u001b[0;31m---------------------------------------------------------------------------\u001b[0m",
      "\u001b[0;31mAttributeError\u001b[0m                            Traceback (most recent call last)",
      "Input \u001b[0;32mIn [20]\u001b[0m, in \u001b[0;36m<cell line: 1>\u001b[0;34m()\u001b[0m\n\u001b[0;32m----> 1\u001b[0m \u001b[43mnano17\u001b[49m\u001b[38;5;241;43m.\u001b[39;49m\u001b[43mm\u001b[49m\n",
      "\u001b[0;31mAttributeError\u001b[0m: 'car' object has no attribute 'm'"
     ]
    }
   ],
   "source": [
    "nano17.m         "
   ]
  },
  {
   "cell_type": "code",
   "execution_count": 21,
   "id": "94ae872a",
   "metadata": {},
   "outputs": [],
   "source": [
    "#we have got an error msg above('car' object has no attribute 'm') here car object is nano17, and nano17 is not aware \n",
    "#of m "
   ]
  },
  {
   "cell_type": "code",
   "execution_count": 22,
   "id": "80cc1daf",
   "metadata": {},
   "outputs": [
    {
     "data": {
      "text/plain": [
       "20"
      ]
     },
     "execution_count": 22,
     "metadata": {},
     "output_type": "execute_result"
    }
   ],
   "source": [
    "nano17.milage"
   ]
  },
  {
   "cell_type": "code",
   "execution_count": 23,
   "id": "1e47b44d",
   "metadata": {},
   "outputs": [
    {
     "data": {
      "text/plain": [
       "<__main__.car at 0x7f884cd85c10>"
      ]
     },
     "execution_count": 23,
     "metadata": {},
     "output_type": "execute_result"
    }
   ],
   "source": [
    "nano17"
   ]
  },
  {
   "cell_type": "code",
   "execution_count": 27,
   "id": "6b759267",
   "metadata": {},
   "outputs": [
    {
     "name": "stdout",
     "output_type": "stream",
     "text": [
      "this is my car class i have created\n"
     ]
    }
   ],
   "source": [
    "print(nano17)"
   ]
  },
  {
   "cell_type": "code",
   "execution_count": 1,
   "id": "2505a82e",
   "metadata": {},
   "outputs": [],
   "source": [
    "class student:\n",
    "    def __init__(self, name, rollno, joining_date, current_topic):\n",
    "        self.name = name\n",
    "        self.rollno = rollno\n",
    "        self.joining_date = joining_date\n",
    "        self.current_topic = current_topic\n",
    "    def name_parsing(self):\n",
    "        if type(self.name) == list:\n",
    "            for i in self.name:\n",
    "                print(\"name of the student \", i)\n",
    "        else:\n",
    "            print(\"provided name is not in the form of list\")\n",
    "    def crt_topic(self):\n",
    "        print(\"current topic discussed in the class is \", self.current_topic)\n",
    "    def str_rollno(self):\n",
    "        if type(self.rollno) == str:\n",
    "            print(\"it is good\")\n",
    "        else:\n",
    "            return str(self.rollno)\n",
    "    def duration(self, current_date):\n",
    "        print(\"duration of student in my class is \", current_date-self.joining_date)\n",
    "    def __str__(self):\n",
    "        return \"this is student class where they can try to input there own data and they can try to fetch it\""
   ]
  },
  {
   "cell_type": "code",
   "execution_count": null,
   "id": "1d13f8df",
   "metadata": {},
   "outputs": [],
   "source": [
    "#write a function in above code if name is in the form of list then print all the name"
   ]
  },
  {
   "cell_type": "code",
   "execution_count": 4,
   "id": "e84c4577",
   "metadata": {},
   "outputs": [],
   "source": [
    "srivalli = student(\"srivalli\", 4566444, 2021, \"oops\")"
   ]
  },
  {
   "cell_type": "code",
   "execution_count": 5,
   "id": "64e50a08",
   "metadata": {},
   "outputs": [
    {
     "name": "stdout",
     "output_type": "stream",
     "text": [
      "duration of student in my class is  1\n"
     ]
    }
   ],
   "source": [
    "srivalli.duration(2022)"
   ]
  },
  {
   "cell_type": "code",
   "execution_count": 7,
   "id": "115d807e",
   "metadata": {},
   "outputs": [
    {
     "data": {
      "text/plain": [
       "'4566444'"
      ]
     },
     "execution_count": 7,
     "metadata": {},
     "output_type": "execute_result"
    }
   ],
   "source": [
    "srivalli.str_rollno()"
   ]
  },
  {
   "cell_type": "code",
   "execution_count": 8,
   "id": "f7fe6e2d",
   "metadata": {},
   "outputs": [
    {
     "name": "stdout",
     "output_type": "stream",
     "text": [
      "this is student class where they can try to input there own data and they can try to fetch it\n"
     ]
    }
   ],
   "source": [
    "print(srivalli)"
   ]
  },
  {
   "cell_type": "code",
   "execution_count": 9,
   "id": "bc6935d8",
   "metadata": {},
   "outputs": [],
   "source": [
    "pushpa = student(\"pushpa\", \"fhjfj\", 2022, \"oops\")"
   ]
  },
  {
   "cell_type": "code",
   "execution_count": 12,
   "id": "7fc9ac42",
   "metadata": {},
   "outputs": [
    {
     "name": "stdout",
     "output_type": "stream",
     "text": [
      "it is good\n"
     ]
    }
   ],
   "source": [
    "pushpa.str_rollno()"
   ]
  },
  {
   "cell_type": "code",
   "execution_count": 3,
   "id": "cd8c7734",
   "metadata": {},
   "outputs": [],
   "source": [
    "pawan = student([\"rahul\", \"shyam\", \"ankit\", \"mohit\"],[4566,5544,3344,2345],2022,\"oops\") #giving data of many students"
   ]
  },
  {
   "cell_type": "code",
   "execution_count": 4,
   "id": "f537c428",
   "metadata": {},
   "outputs": [
    {
     "name": "stdout",
     "output_type": "stream",
     "text": [
      "name of the student  rahul\n",
      "name of the student  shyam\n",
      "name of the student  ankit\n",
      "name of the student  mohit\n"
     ]
    }
   ],
   "source": [
    "pawan.name_parsing()"
   ]
  },
  {
   "cell_type": "code",
   "execution_count": null,
   "id": "dd223587",
   "metadata": {},
   "outputs": [],
   "source": [
    "#class variable simply means that it is a __init__ method "
   ]
  },
  {
   "cell_type": "code",
   "execution_count": 4,
   "id": "599e361f",
   "metadata": {},
   "outputs": [
    {
     "name": "stdout",
     "output_type": "stream",
     "text": [
      "fghjgjkhukgjyfvhjghdfg hvfjh hvjh\n"
     ]
    }
   ],
   "source": [
    "class data:\n",
    "    def __init__(self, filename, filetype, data, size):\n",
    "        self.filename = filename\n",
    "        self.filetype = filetype\n",
    "        self.data = data\n",
    "        self.size = size\n",
    "    def fileopen(self):\n",
    "        f = open(self.filename,\"w\")\n",
    "        f.write(\"fghjgjkhukgjyfvhjghdfg hvfjh hvjh\")\n",
    "        f.close()\n",
    "    def fileread(self): \n",
    "        f = open(self.filename,\"r\")\n",
    "        print(f.read())\n",
    "        f.close()\n",
    "    def fileappend(self)   :\n",
    "        f = open(self.filename,\"a\")\n",
    "        f.write(\"jhjjdckkdmckdjijcdkckckd\")\n",
    "        f.close()\n",
    "        \n",
    "file1 = data(\"file1\", \"txt\", \"this is data\", '1Mb') \n",
    "file1.fileopen()\n",
    "file1.fileread()\n",
    "file1.fileappend()"
   ]
  },
  {
   "cell_type": "code",
   "execution_count": 1,
   "id": "8d44d1c4",
   "metadata": {},
   "outputs": [
    {
     "name": "stdout",
     "output_type": "stream",
     "text": [
      "nvjnvjfnvjfnvjnfvjnfjvnfjnvjnvfvjfvjfvjfvfjnvjfnjfnvj\n"
     ]
    }
   ],
   "source": [
    "import logging as lg\n",
    "lg.basicConfig(filename = \"oops.log\" , level = lg.ERROR)\n",
    "class data:\n",
    "    def __init__(self, filename, filetype, data, size):\n",
    "        self.filename = filename\n",
    "        self.filetype = filetype\n",
    "        self.data = data\n",
    "        self.size = size\n",
    "    def fileopen(self):\n",
    "        try:\n",
    "            f = open(self.filename, \"w\")\n",
    "            f.write(\"nvjnvjfnvjfnvjnfvjnfjvnfjnvjnvfvjfvjfvjfvfjnvjfnjfnvj\")\n",
    "        except Exception as e:\n",
    "            self.logging(e)  #self.logging(e)--> here self is used bcoz we r calling a function within the class. then we are trying to provide messages by using (e) from exception handling\n",
    "    def fileread(self):\n",
    "        try:\n",
    "            f = open(self.filename, \"r\")\n",
    "            print(f.read())\n",
    "        except FileNotFound as e:\n",
    "            self.logging(e)\n",
    "        except Exception as e:\n",
    "            self.logging(e)\n",
    "    def fileappend(self):\n",
    "        try:\n",
    "            f = open(self.filename,'a')\n",
    "            f.write(\"bdbdbdbdbdbdbbdbbbdbdb\")\n",
    "        except FileNotFound as e:\n",
    "            self.logging(e)\n",
    "        except Exception as e:\n",
    "            self.logging(e)\n",
    "    def logging(self, log):\n",
    "        lg.error(log)\n",
    "        \n",
    "        \n",
    "file2 = data(\"file2\", \".txt\", \"dataleve2code\", \"1Mb\") \n",
    "file2.fileopen()\n",
    "file2.fileread()\n",
    "file2.fileappend()"
   ]
  },
  {
   "cell_type": "code",
   "execution_count": null,
   "id": "797a022c",
   "metadata": {},
   "outputs": [],
   "source": []
  }
 ],
 "metadata": {
  "kernelspec": {
   "display_name": "Python 3 (ipykernel)",
   "language": "python",
   "name": "python3"
  },
  "language_info": {
   "codemirror_mode": {
    "name": "ipython",
    "version": 3
   },
   "file_extension": ".py",
   "mimetype": "text/x-python",
   "name": "python",
   "nbconvert_exporter": "python",
   "pygments_lexer": "ipython3",
   "version": "3.9.12"
  }
 },
 "nbformat": 4,
 "nbformat_minor": 5
}
